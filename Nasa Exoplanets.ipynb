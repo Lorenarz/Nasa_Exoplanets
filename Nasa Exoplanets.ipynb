{
 "cells": [
  {
   "cell_type": "code",
   "execution_count": 1,
   "metadata": {},
   "outputs": [],
   "source": [
    "from astroquery.nasa_exoplanet_archive import NasaExoplanetArchive\n",
    ">>> exoplanet_archive_table = NasaExoplanetArchive.get_confirmed_planets_table()"
   ]
  },
  {
   "cell_type": "code",
   "execution_count": 2,
   "metadata": {},
   "outputs": [
    {
     "data": {
      "text/html": [
       "<i>QTable masked=True length=2</i>\n",
       "<table id=\"table140271657963816\" class=\"table-striped table-bordered table-condensed\">\n",
       "<thead><tr><th>pl_hostname</th><th>pl_letter</th><th>pl_name</th><th>pl_discmethod</th><th>pl_controvflag</th><th>pl_pnum</th><th>pl_orbper</th><th>pl_orbpererr1</th><th>pl_orbpererr2</th><th>pl_orbperlim</th><th>pl_orbpern</th><th>pl_orbsmax</th><th>pl_orbsmaxerr1</th><th>pl_orbsmaxerr2</th><th>pl_orbsmaxlim</th><th>pl_orbsmaxn</th><th>pl_orbeccen</th><th>pl_orbeccenerr1</th><th>pl_orbeccenerr2</th><th>pl_orbeccenlim</th><th>pl_orbeccenn</th><th>pl_orbincl</th><th>pl_orbinclerr1</th><th>pl_orbinclerr2</th><th>pl_orbincllim</th><th>pl_orbincln</th><th>pl_bmassj</th><th>pl_bmassjerr1</th><th>pl_bmassjerr2</th><th>pl_bmassjlim</th><th>pl_bmassn</th><th>pl_bmassprov</th><th>pl_radj</th><th>pl_radjerr1</th><th>pl_radjerr2</th><th>pl_radjlim</th><th>pl_radn</th><th>pl_dens</th><th>pl_denserr1</th><th>pl_denserr2</th><th>pl_denslim</th><th>pl_densn</th><th>pl_ttvflag</th><th>pl_kepflag</th><th>pl_k2flag</th><th>ra_str</th><th>dec_str</th><th>ra</th><th>st_raerr</th><th>dec</th><th>st_decerr</th><th>st_posn</th><th>st_dist</th><th>st_disterr1</th><th>st_disterr2</th><th>st_distlim</th><th>st_distn</th><th>st_optmag</th><th>st_optmagerr</th><th>st_optmaglim</th><th>st_optband</th><th>gaia_gmag</th><th>gaia_gmagerr</th><th>gaia_gmaglim</th><th>st_teff</th><th>st_tefferr1</th><th>st_tefferr2</th><th>st_tefflim</th><th>st_teffn</th><th>st_mass</th><th>st_masserr1</th><th>st_masserr2</th><th>st_masslim</th><th>st_massn</th><th>st_rad</th><th>st_raderr1</th><th>st_raderr2</th><th>st_radlim</th><th>st_radn</th><th>pl_nnotes</th><th>rowupdate</th><th>pl_facility</th><th>NAME_LOWERCASE</th><th>sky_coord</th></tr></thead>\n",
       "<thead><tr><th></th><th></th><th></th><th></th><th></th><th></th><th>d</th><th>d</th><th>d</th><th>d</th><th></th><th>AU</th><th>AU</th><th>AU</th><th>AU</th><th></th><th></th><th></th><th></th><th></th><th></th><th>deg</th><th>deg</th><th>deg</th><th>deg</th><th></th><th>jupiterMass</th><th>jupiterMass</th><th>jupiterMass</th><th>jupiterMass</th><th></th><th></th><th>jupiterRad</th><th>jupiterRad</th><th>jupiterRad</th><th>jupiterRad</th><th></th><th></th><th></th><th></th><th></th><th></th><th></th><th></th><th></th><th></th><th></th><th>deg</th><th></th><th>deg</th><th></th><th></th><th>pc</th><th>pc</th><th>pc</th><th>pc</th><th></th><th>mag</th><th>mag</th><th>mag</th><th></th><th></th><th></th><th></th><th>K</th><th>K</th><th>K</th><th>K</th><th></th><th>solMass</th><th>solMass</th><th>solMass</th><th>solMass</th><th></th><th>solRad</th><th>solRad</th><th>solRad</th><th>solRad</th><th></th><th></th><th></th><th></th><th></th><th>deg,deg</th></tr></thead>\n",
       "<thead><tr><th>str27</th><th>str1</th><th>str29</th><th>str29</th><th>int64</th><th>int64</th><th>float64</th><th>float64</th><th>float64</th><th>float64</th><th>int64</th><th>float64</th><th>float64</th><th>float64</th><th>float64</th><th>int64</th><th>float64</th><th>float64</th><th>float64</th><th>int64</th><th>int64</th><th>float64</th><th>float64</th><th>float64</th><th>float64</th><th>int64</th><th>float64</th><th>float64</th><th>float64</th><th>float64</th><th>int64</th><th>str14</th><th>float64</th><th>float64</th><th>float64</th><th>float64</th><th>int64</th><th>float64</th><th>float64</th><th>float64</th><th>int64</th><th>int64</th><th>int64</th><th>int64</th><th>int64</th><th>str14</th><th>str15</th><th>float64</th><th>float64</th><th>float64</th><th>float64</th><th>int64</th><th>float64</th><th>float64</th><th>float64</th><th>float64</th><th>int64</th><th>float64</th><th>float64</th><th>float64</th><th>str11</th><th>float64</th><th>int64</th><th>int64</th><th>float64</th><th>float64</th><th>float64</th><th>float64</th><th>int64</th><th>float64</th><th>float64</th><th>float64</th><th>float64</th><th>int64</th><th>float64</th><th>float64</th><th>float64</th><th>float64</th><th>int64</th><th>int64</th><th>str10</th><th>str44</th><th>str26</th><th>object</th></tr></thead>\n",
       "<tr><td>CoRoT-12</td><td>b</td><td>CoRoT-12 b</td><td>Transit</td><td>0</td><td>1</td><td>2.828042</td><td>1.3e-05</td><td>-1.3e-05</td><td>0.0</td><td>3</td><td>0.04016</td><td>0.00093</td><td>-0.00092</td><td>0.0</td><td>3</td><td>0.07</td><td>0.063</td><td>-0.042</td><td>0</td><td>2</td><td>85.48</td><td>0.72</td><td>-0.77</td><td>0.0</td><td>3</td><td>0.917</td><td>0.07</td><td>-0.065</td><td>0.0</td><td>3</td><td>Mass</td><td>1.44</td><td>0.13</td><td>-0.13</td><td>0.0</td><td>3</td><td>0.411</td><td>0.129</td><td>-0.094</td><td>0</td><td>3</td><td>0</td><td>0</td><td>0</td><td>06h43m03.76s</td><td>-01d17m47.2s</td><td>100.765677</td><td>1.7e-05</td><td>-1.296439</td><td>1.7e-05</td><td>1</td><td>1150.0</td><td>85.0</td><td>-85.0</td><td>0.0</td><td>2</td><td>15.515</td><td>0.052</td><td>0.0</td><td>V (Johnson)</td><td>15.345</td><td>--</td><td>0</td><td>5675.0</td><td>80.0</td><td>-80.0</td><td>0.0</td><td>5</td><td>1.08</td><td>0.08</td><td>-0.07</td><td>0.0</td><td>4</td><td>1.12</td><td>0.1</td><td>-0.09</td><td>0.0</td><td>5</td><td>0</td><td>2014-05-14</td><td>CoRoT</td><td>corot-12b</td><td>100.765677,-1.296439</td></tr>\n",
       "<tr><td>CoRoT-13</td><td>b</td><td>CoRoT-13 b</td><td>Transit</td><td>0</td><td>1</td><td>4.03519</td><td>3e-05</td><td>-3e-05</td><td>0.0</td><td>3</td><td>0.051</td><td>0.0031</td><td>-0.0031</td><td>0.0</td><td>3</td><td>0.0</td><td>--</td><td>--</td><td>0</td><td>2</td><td>88.02</td><td>0.34</td><td>-0.36</td><td>0.0</td><td>3</td><td>1.308</td><td>0.066</td><td>-0.066</td><td>0.0</td><td>3</td><td>Mass</td><td>0.885</td><td>0.014</td><td>-0.014</td><td>0.0</td><td>3</td><td>2.34</td><td>0.23</td><td>-0.23</td><td>0</td><td>3</td><td>0</td><td>0</td><td>0</td><td>06h50m53.07s</td><td>-05d05m11.2s</td><td>102.721137</td><td>1.7e-05</td><td>-5.086445</td><td>1.7e-05</td><td>1</td><td>1060.0</td><td>100.0</td><td>-100.0</td><td>0.0</td><td>2</td><td>15.039</td><td>0.041</td><td>0.0</td><td>V (Johnson)</td><td>14.915</td><td>--</td><td>0</td><td>5945.0</td><td>90.0</td><td>-90.0</td><td>0.0</td><td>4</td><td>1.09</td><td>0.02</td><td>-0.02</td><td>0.0</td><td>3</td><td>1.01</td><td>0.03</td><td>-0.03</td><td>0.0</td><td>4</td><td>0</td><td>2014-05-14</td><td>CoRoT</td><td>corot-13b</td><td>102.721137,-5.086445</td></tr>\n",
       "</table>"
      ],
      "text/plain": [
       "<QTable masked=True length=2>\n",
       "pl_hostname pl_letter  pl_name   ... NAME_LOWERCASE      sky_coord      \n",
       "                                 ...                      deg,deg       \n",
       "   str27       str1     str29    ...     str26             object       \n",
       "----------- --------- ---------- ... -------------- --------------------\n",
       "   CoRoT-12         b CoRoT-12 b ...      corot-12b 100.765677,-1.296439\n",
       "   CoRoT-13         b CoRoT-13 b ...      corot-13b 102.721137,-5.086445"
      ]
     },
     "execution_count": 2,
     "metadata": {},
     "output_type": "execute_result"
    }
   ],
   "source": [
    " exoplanet_archive_table[:2]"
   ]
  },
  {
   "cell_type": "code",
   "execution_count": 1,
   "metadata": {},
   "outputs": [],
   "source": [
    ">>> from astroquery.nasa_exoplanet_archive import NasaExoplanetArchive\n",
    ">>> hatp11b = NasaExoplanetArchive.query_planet('HAT-P-11 b')\n"
   ]
  },
  {
   "cell_type": "code",
   "execution_count": 6,
   "metadata": {},
   "outputs": [
    {
     "data": {
      "text/latex": [
       "$4.8878024 \\; \\mathrm{d}$"
      ],
      "text/plain": [
       "<Quantity 4.88780244 d>"
      ]
     },
     "execution_count": 6,
     "metadata": {},
     "output_type": "execute_result"
    }
   ],
   "source": [
    " hatp11b['pl_orbper']\n"
   ]
  },
  {
   "cell_type": "code",
   "execution_count": 5,
   "metadata": {},
   "outputs": [
    {
     "data": {
      "text/latex": [
       "$0.389 \\; \\mathrm{R_{\\rm J}}$"
      ],
      "text/plain": [
       "<Quantity 0.389 jupiterRad>"
      ]
     },
     "execution_count": 5,
     "metadata": {},
     "output_type": "execute_result"
    }
   ],
   "source": [
    "hatp11b['pl_radj']"
   ]
  },
  {
   "cell_type": "code",
   "execution_count": 7,
   "metadata": {},
   "outputs": [
    {
     "data": {
      "text/plain": [
       "<SkyCoord (ICRS): (ra, dec) in deg\n",
       "    (297.709351, 48.080856)>"
      ]
     },
     "execution_count": 7,
     "metadata": {},
     "output_type": "execute_result"
    }
   ],
   "source": [
    "hatp11b['sky_coord']"
   ]
  },
  {
   "cell_type": "code",
   "execution_count": null,
   "metadata": {},
   "outputs": [],
   "source": []
  }
 ],
 "metadata": {
  "kernelspec": {
   "display_name": "Python 3",
   "language": "python",
   "name": "python3"
  },
  "language_info": {
   "codemirror_mode": {
    "name": "ipython",
    "version": 3
   },
   "file_extension": ".py",
   "mimetype": "text/x-python",
   "name": "python",
   "nbconvert_exporter": "python",
   "pygments_lexer": "ipython3",
   "version": "3.7.3"
  }
 },
 "nbformat": 4,
 "nbformat_minor": 2
}
